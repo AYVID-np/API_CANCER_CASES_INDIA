{
 "cells": [
  {
   "cell_type": "code",
   "execution_count": 268,
   "metadata": {},
   "outputs": [
    {
     "name": "stdout",
     "output_type": "stream",
     "text": [
      "In 2019 : max cases are 196652 in the state Uttar Pradesh AND min cases are 27 in the state Lakshadweep \n",
      "In 2020 : max cases are 201319 in the state Uttar Pradesh AND min cases are 27 in the state Lakshadweep\n",
      "In 2021 : max cases are 206088 in the state Uttar Pradesh  AND min cases are 28 in the state Lakshadweep\n",
      "Inference1: The state that has reported maximum and minimum cancer cases every year fro the tenure 2019-2021 is Uttar Pradesh and Lakshadweep, respectively\n",
      "....................................................\n",
      "The state with maximum increase in the cases in the year 2019-2020 is Dadra & Nagar Haveli with increment  9.7087%\n",
      "The state with minimum increase in the cases in the year 2019-2020 is Lakshadweep with increment  0.0000%\n",
      "The state with maximum increase in the cases in the year 2020-2021 is Daman with increment  8.1481%\n",
      "The state with minimum increase in the cases in the year 2020-2021 is Kerala with increment   1.6925%\n",
      "Inference2 : Abeit Uttar Pradesh records the maximum number of cancer cases every year but Dadra and Nagar Haveli and Daman recorded highest increment in the cancer patients in the year 2019-2020 and 2020-2021, repectively.\n"
     ]
    }
   ],
   "source": [
    "## Created by\n",
    "##  Divya Arora on 22 May,2022\n",
    "\n",
    "\n",
    "## Questions to be addressed\n",
    "## 1.) Which state reports the highest and the lowest cases per year \n",
    "## 2.) Which states have reported the highest increase in the cases for the years 2019-2020 and 2020-2021\n",
    "\n",
    "import requests\n",
    "\n",
    "# The following endpoint contains a json formatted file\n",
    "endpoint = \"https://api.data.gov.in/resource/a12ac9a7-99a9-4808-b987-42ed0223385e?api-key=579b464db66ec23bdd000001af7fa44ac821409b5f36e8d070645550&format=json&limit=1000\"\n",
    "response= requests.get(endpoint)\n",
    "\n",
    "val = response.json()[\"records\"]\n",
    "\n",
    "state,year_2019,year_2020,year_2021 =[],[],[],[]\n",
    "\n",
    "for i in range(len(val)-1): \n",
    "    cases = val[i]\n",
    "    state.append(cases[\"state_ut\"])\n",
    "    year_2019.append(cases[\"_2019\"])\n",
    "    year_2020.append(cases[\"_2020\"])\n",
    "    year_2021.append(cases[\"_2021\"])\n",
    "\n",
    "print(f\"In 2019 : max cases are {max(year_2019)} in the state {state[year_2019.index(max(year_2019))]} AND min cases are {min(year_2019)} in the state {state[year_2019.index(min(year_2019))]} \")\n",
    "print(f\"In 2020 : max cases are {max(year_2020)} in the state {state[year_2020.index(max(year_2020))]} AND min cases are {min(year_2020)} in the state {state[year_2020.index(min(year_2020))]}\")\n",
    "print(f\"In 2021 : max cases are {max(year_2021)} in the state {state[year_2021.index(max(year_2021))]}  AND min cases are {min(year_2021)} in the state {state[year_2021.index(min(year_2021))]}\")\n",
    "\n",
    "print(\"Inference1: The state that has reported maximum and minimum cancer cases every year fro the tenure 2019-2021 is Uttar Pradesh and Lakshadweep, respectively\")\n",
    "print(\"....................................................\")\n",
    "\n",
    "net_2020,net_2021 =[],[]\n",
    "for case1,case2,case3 in zip (year_2019,year_2020,year_2021):\n",
    "    sub20 = (case2-case1)*100/case2\n",
    "    sub21 = (case3-case2)*100/case3\n",
    "    net_2020.append(sub20)\n",
    "    net_2021.append(sub21)\n",
    "\n",
    "print(\"The state with maximum increase in the cases in the year 2019-2020 is {0} with increment {1:7.4f}%\".format(state[net_2020.index(max(net_2020))],max(net_2020)) )\n",
    "print(\"The state with minimum increase in the cases in the year 2019-2020 is {0} with increment {1:7.4f}%\".format(state[net_2020.index(min(net_2020))],min(net_2020)))\n",
    "\n",
    "print(\"The state with maximum increase in the cases in the year 2020-2021 is {0} with increment {1:7.4f}%\".format(state[net_2021.index(max(net_2021))],max(net_2021))   )\n",
    "print(\"The state with minimum increase in the cases in the year 2020-2021 is {0} with increment  {1:7.4f}%\".format(state[net_2021.index(min(net_2021))],min(net_2021))  )\n",
    "\n",
    "print(\"Inference2 : Abeit Uttar Pradesh records the maximum number of cancer cases every year but Dadra and Nagar Haveli and Daman recorded highest increment in the cancer patients in the year 2019-2020 and 2020-2021, repectively.\")"
   ]
  },
  {
   "cell_type": "code",
   "execution_count": null,
   "metadata": {},
   "outputs": [],
   "source": []
  }
 ],
 "metadata": {
  "kernelspec": {
   "display_name": "Python 3",
   "language": "python",
   "name": "python3"
  },
  "language_info": {
   "codemirror_mode": {
    "name": "ipython",
    "version": 3
   },
   "file_extension": ".py",
   "mimetype": "text/x-python",
   "name": "python",
   "nbconvert_exporter": "python",
   "pygments_lexer": "ipython3",
   "version": "3.7.6"
  }
 },
 "nbformat": 4,
 "nbformat_minor": 4
}
